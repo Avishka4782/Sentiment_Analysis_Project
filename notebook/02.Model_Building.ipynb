{
 "cells": [
  {
   "cell_type": "code",
   "execution_count": 27,
   "id": "1ede6f89-2b46-43f0-86b7-d95549dd6b95",
   "metadata": {},
   "outputs": [],
   "source": [
    "import numpy as np\n",
    "import pandas as pd\n",
    "import matplotlib.pyplot as plt"
   ]
  },
  {
   "cell_type": "code",
   "execution_count": 28,
   "id": "8278f247-cb5f-468a-9f0c-5af830112f2d",
   "metadata": {},
   "outputs": [],
   "source": [
    "data = pd.read_csv('../artifacts/sentiment_analysis.csv')"
   ]
  },
  {
   "cell_type": "code",
   "execution_count": 29,
   "id": "3bfb37b1-cca2-4644-ba72-5a604adb6d3d",
   "metadata": {},
   "outputs": [
    {
     "data": {
      "text/html": [
       "<div>\n",
       "<style scoped>\n",
       "    .dataframe tbody tr th:only-of-type {\n",
       "        vertical-align: middle;\n",
       "    }\n",
       "\n",
       "    .dataframe tbody tr th {\n",
       "        vertical-align: top;\n",
       "    }\n",
       "\n",
       "    .dataframe thead th {\n",
       "        text-align: right;\n",
       "    }\n",
       "</style>\n",
       "<table border=\"1\" class=\"dataframe\">\n",
       "  <thead>\n",
       "    <tr style=\"text-align: right;\">\n",
       "      <th></th>\n",
       "      <th>id</th>\n",
       "      <th>label</th>\n",
       "      <th>tweet</th>\n",
       "    </tr>\n",
       "  </thead>\n",
       "  <tbody>\n",
       "    <tr>\n",
       "      <th>0</th>\n",
       "      <td>1</td>\n",
       "      <td>0</td>\n",
       "      <td>#fingerprint #Pregnancy Test https://goo.gl/h1...</td>\n",
       "    </tr>\n",
       "    <tr>\n",
       "      <th>1</th>\n",
       "      <td>2</td>\n",
       "      <td>0</td>\n",
       "      <td>Finally a transparant silicon case ^^ Thanks t...</td>\n",
       "    </tr>\n",
       "    <tr>\n",
       "      <th>2</th>\n",
       "      <td>3</td>\n",
       "      <td>0</td>\n",
       "      <td>We love this! Would you go? #talk #makememorie...</td>\n",
       "    </tr>\n",
       "    <tr>\n",
       "      <th>3</th>\n",
       "      <td>4</td>\n",
       "      <td>0</td>\n",
       "      <td>I'm wired I know I'm George I was made that wa...</td>\n",
       "    </tr>\n",
       "    <tr>\n",
       "      <th>4</th>\n",
       "      <td>5</td>\n",
       "      <td>1</td>\n",
       "      <td>What amazing service! Apple won't even talk to...</td>\n",
       "    </tr>\n",
       "  </tbody>\n",
       "</table>\n",
       "</div>"
      ],
      "text/plain": [
       "   id  label                                              tweet\n",
       "0   1      0  #fingerprint #Pregnancy Test https://goo.gl/h1...\n",
       "1   2      0  Finally a transparant silicon case ^^ Thanks t...\n",
       "2   3      0  We love this! Would you go? #talk #makememorie...\n",
       "3   4      0  I'm wired I know I'm George I was made that wa...\n",
       "4   5      1  What amazing service! Apple won't even talk to..."
      ]
     },
     "execution_count": 29,
     "metadata": {},
     "output_type": "execute_result"
    }
   ],
   "source": [
    "data.head()"
   ]
  },
  {
   "cell_type": "markdown",
   "id": "68dfe9bb-d0e8-4466-a11c-4567895e4b66",
   "metadata": {},
   "source": [
    "## Data Preprocessing"
   ]
  },
  {
   "cell_type": "code",
   "execution_count": 30,
   "id": "a85d4e5c-0420-488b-a90e-df0741406fd2",
   "metadata": {},
   "outputs": [
    {
     "data": {
      "text/plain": [
       "(7920, 3)"
      ]
     },
     "execution_count": 30,
     "metadata": {},
     "output_type": "execute_result"
    }
   ],
   "source": [
    "data.shape"
   ]
  },
  {
   "cell_type": "code",
   "execution_count": 31,
   "id": "e00e40d9-a1b0-4c35-8ba7-a3001f74a47d",
   "metadata": {},
   "outputs": [
    {
     "data": {
      "text/plain": [
       "np.int64(0)"
      ]
     },
     "execution_count": 31,
     "metadata": {},
     "output_type": "execute_result"
    }
   ],
   "source": [
    "data.duplicated().sum()"
   ]
  },
  {
   "cell_type": "code",
   "execution_count": 32,
   "id": "285c0818-b8b1-4690-80a6-8ec9047981a7",
   "metadata": {},
   "outputs": [
    {
     "data": {
      "text/plain": [
       "id       0\n",
       "label    0\n",
       "tweet    0\n",
       "dtype: int64"
      ]
     },
     "execution_count": 32,
     "metadata": {},
     "output_type": "execute_result"
    }
   ],
   "source": [
    "data.isnull().sum()"
   ]
  },
  {
   "cell_type": "markdown",
   "id": "2bf17f74-f176-4767-9ea9-c7f4ccdff31e",
   "metadata": {},
   "source": [
    "### Text Preprocessing"
   ]
  },
  {
   "cell_type": "code",
   "execution_count": 33,
   "id": "19792049-f46e-4b18-a0c9-9033947d5af8",
   "metadata": {},
   "outputs": [],
   "source": [
    "import re\n",
    "import string"
   ]
  },
  {
   "cell_type": "markdown",
   "id": "24bba667-628f-4bc0-85e5-3b5dc0e1f4b5",
   "metadata": {},
   "source": [
    " convert uppercase to lowercase"
   ]
  },
  {
   "cell_type": "code",
   "execution_count": 35,
   "id": "af42182f-83c7-4c5e-8aec-78af40820b25",
   "metadata": {},
   "outputs": [],
   "source": [
    "data[\"tweet\"] = data[\"tweet\"].apply(lambda x: \" \".join(x.lower() for x in x.split()))"
   ]
  },
  {
   "cell_type": "code",
   "execution_count": 36,
   "id": "26e546a1-63a2-4d28-8bfc-04510b3753be",
   "metadata": {},
   "outputs": [
    {
     "data": {
      "text/plain": [
       "0    #fingerprint #pregnancy test https://goo.gl/h1...\n",
       "1    finally a transparant silicon case ^^ thanks t...\n",
       "2    we love this! would you go? #talk #makememorie...\n",
       "3    i'm wired i know i'm george i was made that wa...\n",
       "4    what amazing service! apple won't even talk to...\n",
       "Name: tweet, dtype: object"
      ]
     },
     "execution_count": 36,
     "metadata": {},
     "output_type": "execute_result"
    }
   ],
   "source": [
    "data[\"tweet\"].head(5)"
   ]
  },
  {
   "cell_type": "markdown",
   "id": "6814bee0-9f1d-41a3-9a14-50f40e0d606f",
   "metadata": {},
   "source": [
    "Remove Links"
   ]
  },
  {
   "cell_type": "code",
   "execution_count": 38,
   "id": "ff0703e6-04dc-4b64-a960-83621bfcf6ae",
   "metadata": {},
   "outputs": [],
   "source": [
    "data[\"tweet\"] = data[\"tweet\"].apply(lambda x: \" \".join(re.sub(r'^https?:\\/\\/.*[\\r\\n]*', '', x, flags=re.MULTILINE) for x in x.split()))"
   ]
  },
  {
   "cell_type": "code",
   "execution_count": 39,
   "id": "64f28cb9-66e8-4742-bd6e-0b7a9aa87033",
   "metadata": {},
   "outputs": [
    {
     "data": {
      "text/plain": [
       "0    #fingerprint #pregnancy test  #android #apps #...\n",
       "1    finally a transparant silicon case ^^ thanks t...\n",
       "2    we love this! would you go? #talk #makememorie...\n",
       "3    i'm wired i know i'm george i was made that wa...\n",
       "4    what amazing service! apple won't even talk to...\n",
       "Name: tweet, dtype: object"
      ]
     },
     "execution_count": 39,
     "metadata": {},
     "output_type": "execute_result"
    }
   ],
   "source": [
    "data[\"tweet\"].head(5)"
   ]
  },
  {
   "cell_type": "markdown",
   "id": "0946dca6-9b6c-467f-80b8-2d1e5b4e49fa",
   "metadata": {},
   "source": [
    "remove punctuations"
   ]
  },
  {
   "cell_type": "code",
   "execution_count": 43,
   "id": "e53fab6b-767c-4e5c-b62b-469b6d0907dc",
   "metadata": {},
   "outputs": [
    {
     "data": {
      "text/plain": [
       "'!\"#$%&\\'()*+,-./:;<=>?@[\\\\]^_`{|}~'"
      ]
     },
     "execution_count": 43,
     "metadata": {},
     "output_type": "execute_result"
    }
   ],
   "source": [
    "string.punctuation"
   ]
  },
  {
   "cell_type": "code",
   "execution_count": 40,
   "id": "a1050b76-88f2-4c57-a568-bcc91dbdbad4",
   "metadata": {},
   "outputs": [],
   "source": [
    "def remove_punctuations(text):\n",
    "    for punctuation in string.punctuation:\n",
    "        text = text.replace(punctuation,'')\n",
    "    return text\n",
    "\n",
    "data[\"tweet\"] = data[\"tweet\"].apply(remove_punctuations)"
   ]
  },
  {
   "cell_type": "code",
   "execution_count": 44,
   "id": "e3586993-866e-4cf8-9a15-1f6ad37afa01",
   "metadata": {},
   "outputs": [
    {
     "data": {
      "text/plain": [
       "0    fingerprint pregnancy test  android apps beaut...\n",
       "1    finally a transparant silicon case  thanks to ...\n",
       "2    we love this would you go talk makememories un...\n",
       "3    im wired i know im george i was made that way ...\n",
       "4    what amazing service apple wont even talk to m...\n",
       "Name: tweet, dtype: object"
      ]
     },
     "execution_count": 44,
     "metadata": {},
     "output_type": "execute_result"
    }
   ],
   "source": [
    "data[\"tweet\"].head(5)"
   ]
  },
  {
   "cell_type": "markdown",
   "id": "15ab09dd-b114-48f5-8e92-ca57cd9df3ef",
   "metadata": {},
   "source": [
    "Remove Numbers"
   ]
  },
  {
   "cell_type": "code",
   "execution_count": 45,
   "id": "1b7f868f-7b69-41d8-a0f4-cb4a2a2c1932",
   "metadata": {},
   "outputs": [],
   "source": [
    "data[\"tweet\"] = data[\"tweet\"].str.replace('\\d+','',regex=True)"
   ]
  },
  {
   "cell_type": "code",
   "execution_count": 47,
   "id": "d48ed5a3-3c2b-4a79-ab53-0f7efa04bc38",
   "metadata": {},
   "outputs": [
    {
     "data": {
      "text/plain": [
       "7915    live out loud lol liveoutloud selfie smile son...\n",
       "7916    we would like to wish you an amazing day make ...\n",
       "7917    helping my lovely  year old neighbor with her ...\n",
       "7918    finally got my smart pocket wifi stay connecte...\n",
       "7919    apple barcelona apple store bcn barcelona trav...\n",
       "Name: tweet, dtype: object"
      ]
     },
     "execution_count": 47,
     "metadata": {},
     "output_type": "execute_result"
    }
   ],
   "source": [
    "data[\"tweet\"].tail(5)"
   ]
  },
  {
   "cell_type": "markdown",
   "id": "fa8ebda8-202e-4720-9fbb-c40ecbaec8a3",
   "metadata": {},
   "source": [
    "Remove StopWords"
   ]
  },
  {
   "cell_type": "code",
   "execution_count": 50,
   "id": "08ae3ac9-0e2f-4021-a2fa-dbe2ebf6fec6",
   "metadata": {},
   "outputs": [],
   "source": [
    "import nltk"
   ]
  },
  {
   "cell_type": "code",
   "execution_count": 51,
   "id": "f12872b1-bca7-43ce-814e-3e352ef3085a",
   "metadata": {},
   "outputs": [
    {
     "name": "stderr",
     "output_type": "stream",
     "text": [
      "[nltk_data] Downloading package stopwords to ../static/model...\n",
      "[nltk_data]   Unzipping corpora\\stopwords.zip.\n"
     ]
    },
    {
     "data": {
      "text/plain": [
       "True"
      ]
     },
     "execution_count": 51,
     "metadata": {},
     "output_type": "execute_result"
    }
   ],
   "source": [
    "nltk.download('stopwords', download_dir='../static/model')"
   ]
  },
  {
   "cell_type": "code",
   "execution_count": 52,
   "id": "9c399795-8db5-46d9-9f62-734009f34f3f",
   "metadata": {},
   "outputs": [],
   "source": [
    "with open('../static/model/corpora/stopwords/english','r') as file:\n",
    "    sw = file.read().splitlines()"
   ]
  },
  {
   "cell_type": "code",
   "execution_count": 2,
   "id": "186e61cb-f16a-47cf-a272-6cfca35593d1",
   "metadata": {},
   "outputs": [],
   "source": [
    "#sw  #show the stop word list"
   ]
  },
  {
   "cell_type": "code",
   "execution_count": 55,
   "id": "7eb52b80-692d-4ba0-969a-9cb5a7393dfb",
   "metadata": {},
   "outputs": [],
   "source": [
    "data[\"tweet\"] = data[\"tweet\"].apply(lambda x: \" \".join(x for x in x.split() if x not in sw))"
   ]
  },
  {
   "cell_type": "code",
   "execution_count": 56,
   "id": "8d210049-7935-4435-9936-5b15ae4a6d7a",
   "metadata": {},
   "outputs": [
    {
     "data": {
      "text/plain": [
       "0    fingerprint pregnancy test android apps beauti...\n",
       "1    finally transparant silicon case thanks uncle ...\n",
       "2    love would go talk makememories unplug relax i...\n",
       "3    im wired know im george made way iphone cute d...\n",
       "4    amazing service apple wont even talk question ...\n",
       "Name: tweet, dtype: object"
      ]
     },
     "execution_count": 56,
     "metadata": {},
     "output_type": "execute_result"
    }
   ],
   "source": [
    "data[\"tweet\"].head()"
   ]
  },
  {
   "cell_type": "markdown",
   "id": "d7723eaf-a113-418d-8fbe-8d8c7383ff66",
   "metadata": {},
   "source": [
    "Stemming  (get the base word)"
   ]
  },
  {
   "cell_type": "code",
   "execution_count": 57,
   "id": "3389364e-7dc5-44cb-a1b2-59da2cb77b4a",
   "metadata": {},
   "outputs": [],
   "source": [
    "from nltk.stem import PorterStemmer\n",
    "ps = PorterStemmer()"
   ]
  },
  {
   "cell_type": "code",
   "execution_count": 59,
   "id": "d9ccb79a-6396-4130-9cec-f9b41d9f9117",
   "metadata": {},
   "outputs": [],
   "source": [
    "data[\"tweet\"] = data[\"tweet\"].apply(lambda x: \" \".join(ps.stem(x) for x in x.split()))"
   ]
  },
  {
   "cell_type": "code",
   "execution_count": null,
   "id": "7e317fd5-82f0-413a-9041-246ae4e51cb4",
   "metadata": {},
   "outputs": [],
   "source": [
    "data[\"tweet\"].head()"
   ]
  },
  {
   "cell_type": "markdown",
   "id": "6f5ce6cd-7cdf-4fc0-8ace-0ef1f1469778",
   "metadata": {},
   "source": [
    "### Building Vocabulary"
   ]
  },
  {
   "cell_type": "code",
   "execution_count": 65,
   "id": "78572cfa-0d24-4a6b-8079-3bcdc6bc2207",
   "metadata": {},
   "outputs": [],
   "source": [
    "from collections import Counter\n",
    "vocab = Counter()"
   ]
  },
  {
   "cell_type": "code",
   "execution_count": 68,
   "id": "a2673eb8-84d6-4cf5-abec-e533c1c7649f",
   "metadata": {},
   "outputs": [],
   "source": [
    "for sentence in data['tweet']:\n",
    "    vocab.update(sentence.split())\n",
    "    #print(sentence)"
   ]
  },
  {
   "cell_type": "code",
   "execution_count": 1,
   "id": "749f0186-ab6c-4fce-9b7b-1d1cec90d257",
   "metadata": {},
   "outputs": [],
   "source": [
    "#vocab"
   ]
  },
  {
   "cell_type": "code",
   "execution_count": 74,
   "id": "fcd680c6-e9b6-49d0-8c60-506872ab9654",
   "metadata": {},
   "outputs": [
    {
     "data": {
      "text/plain": [
       "15949"
      ]
     },
     "execution_count": 74,
     "metadata": {},
     "output_type": "execute_result"
    }
   ],
   "source": [
    "len(vocab)"
   ]
  },
  {
   "cell_type": "code",
   "execution_count": 75,
   "id": "58582d6b-31e1-4883-8c0d-d86f19b9ad17",
   "metadata": {},
   "outputs": [
    {
     "data": {
      "text/plain": [
       "(7920, 3)"
      ]
     },
     "execution_count": 75,
     "metadata": {},
     "output_type": "execute_result"
    }
   ],
   "source": [
    "data.shape"
   ]
  },
  {
   "cell_type": "code",
   "execution_count": 79,
   "id": "ef7c1065-8b1a-421d-b137-f943e304e88a",
   "metadata": {},
   "outputs": [],
   "source": [
    "tokens = [key for key in vocab if vocab[key] > 10]"
   ]
  },
  {
   "cell_type": "code",
   "execution_count": 80,
   "id": "288deed5-4ba6-434d-ae04-2e43764f449e",
   "metadata": {},
   "outputs": [
    {
     "data": {
      "text/plain": [
       "1145"
      ]
     },
     "execution_count": 80,
     "metadata": {},
     "output_type": "execute_result"
    }
   ],
   "source": [
    "len(tokens)"
   ]
  },
  {
   "cell_type": "code",
   "execution_count": 81,
   "id": "3f8d947c-a34d-49a2-9d42-458209d7ee71",
   "metadata": {},
   "outputs": [],
   "source": [
    "def save_vocabulary(lines, filename):\n",
    "    data = '\\n'.join(lines)\n",
    "    file = open(filename, 'w', encoding=\"utf-8\")\n",
    "    file.write(data)\n",
    "    file.close()\n",
    "\n",
    "save_vocabulary(tokens, '../static/model/vocabulary.txt')"
   ]
  },
  {
   "cell_type": "markdown",
   "id": "8fff0596-5818-4295-9aff-c1eb4c179bbb",
   "metadata": {},
   "source": [
    "### Divide dataset"
   ]
  },
  {
   "cell_type": "code",
   "execution_count": null,
   "id": "d7801fb0-48e7-4255-8064-732ff4e7176d",
   "metadata": {},
   "outputs": [],
   "source": [
    "x = data['tweet']\n",
    "y = data['label']"
   ]
  },
  {
   "cell_type": "code",
   "execution_count": 123,
   "id": "f699cbce-2ac0-4df0-9bdb-ff61b6d36880",
   "metadata": {},
   "outputs": [],
   "source": [
    "#pip install scikit-learn"
   ]
  },
  {
   "cell_type": "code",
   "execution_count": 92,
   "id": "a7738022-eda4-4c9d-be7d-5fbc5873dde9",
   "metadata": {},
   "outputs": [],
   "source": [
    "from sklearn.model_selection import train_test_split\n",
    "x_train, x_test,y_train,  y_test = train_test_split(x, y, test_size=0.2)"
   ]
  },
  {
   "cell_type": "code",
   "execution_count": 100,
   "id": "8856fc20-6747-4e73-bfff-39510c114044",
   "metadata": {},
   "outputs": [
    {
     "data": {
      "text/plain": [
       "(6336,)"
      ]
     },
     "execution_count": 100,
     "metadata": {},
     "output_type": "execute_result"
    }
   ],
   "source": [
    "y_train.shape"
   ]
  },
  {
   "cell_type": "code",
   "execution_count": 94,
   "id": "bfaf1108-aff1-4352-aaf9-39e1dbc3de38",
   "metadata": {},
   "outputs": [
    {
     "data": {
      "text/plain": [
       "(1584,)"
      ]
     },
     "execution_count": 94,
     "metadata": {},
     "output_type": "execute_result"
    }
   ],
   "source": [
    "x_test.shape"
   ]
  },
  {
   "cell_type": "markdown",
   "id": "c56a5fb3-062c-412d-b7ad-4449da27a4a9",
   "metadata": {},
   "source": [
    "# Vectorization"
   ]
  },
  {
   "cell_type": "code",
   "execution_count": 97,
   "id": "16761f89-897d-4f2f-a48c-7b7b58c63eab",
   "metadata": {},
   "outputs": [],
   "source": [
    "def vectorizer(ds, vocabulary):\n",
    "    vectorized_lst = []\n",
    "\n",
    "    for sentence in ds:\n",
    "        sentence_lst = np.zeros(len(vocabulary))\n",
    "\n",
    "        for i in range(len(vocabulary)):\n",
    "            if vocabulary[i] in sentence.split():\n",
    "                sentence_lst[i] = 1\n",
    "        vectorized_lst.append(sentence_lst)\n",
    "    vectorized_lst_new = np.array(vectorized_lst, dtype=np.float32)\n",
    "\n",
    "    return vectorized_lst_new\n",
    "    "
   ]
  },
  {
   "cell_type": "code",
   "execution_count": 113,
   "id": "bccceb8f-bcee-4ea9-8cd3-310bbd0b8857",
   "metadata": {},
   "outputs": [],
   "source": [
    "vectorized_x_train = vectorizer(x_train, tokens)"
   ]
  },
  {
   "cell_type": "code",
   "execution_count": 114,
   "id": "8bb7e0fe-5cf9-4719-93d0-c9ea7379e051",
   "metadata": {},
   "outputs": [],
   "source": [
    "vectorized_x_test = vectorizer(x_test, tokens)"
   ]
  },
  {
   "cell_type": "code",
   "execution_count": 116,
   "id": "a1d38c8d-ded2-4f67-b526-c54cd202f5bb",
   "metadata": {},
   "outputs": [
    {
     "data": {
      "text/plain": [
       "array([[0., 1., 0., ..., 0., 0., 0.],\n",
       "       [0., 1., 0., ..., 0., 0., 0.],\n",
       "       [0., 0., 0., ..., 0., 0., 0.],\n",
       "       ...,\n",
       "       [0., 0., 0., ..., 0., 0., 0.],\n",
       "       [0., 0., 0., ..., 0., 0., 0.],\n",
       "       [0., 0., 0., ..., 0., 0., 0.]], shape=(6336, 1145), dtype=float32)"
      ]
     },
     "execution_count": 116,
     "metadata": {},
     "output_type": "execute_result"
    }
   ],
   "source": [
    "vectorized_x_train"
   ]
  },
  {
   "cell_type": "code",
   "execution_count": 117,
   "id": "422bea76-4114-4998-8d5c-3eda8d0e25df",
   "metadata": {},
   "outputs": [
    {
     "data": {
      "text/plain": [
       "label\n",
       "0    4703\n",
       "1    1633\n",
       "Name: count, dtype: int64"
      ]
     },
     "execution_count": 117,
     "metadata": {},
     "output_type": "execute_result"
    }
   ],
   "source": [
    "y_train.value_counts()"
   ]
  },
  {
   "cell_type": "code",
   "execution_count": 118,
   "id": "d5001128-3bd5-4e7b-a536-58765e7ced32",
   "metadata": {},
   "outputs": [
    {
     "data": {
      "image/png": "[encoded data removed]",
      "text/plain": [
       "<Figure size 640x480 with 1 Axes>"
      ]
     },
     "metadata": {},
     "output_type": "display_data"
    }
   ],
   "source": [
    "plt.pie(np.array([y_train.value_counts()[0], y_train.value_counts()[1]]),labels=['Positive', 'Negative'])\n",
    "plt.show()"
   ]
  },
  {
   "cell_type": "markdown",
   "id": "7db1b71f-cb48-4c86-ae34-e85848aca5bf",
   "metadata": {},
   "source": [
    "### Handle imblanced data"
   ]
  },
  {
   "cell_type": "code",
   "execution_count": 122,
   "id": "f584d5b5-e5e6-49a0-9ceb-3c7453f992b6",
   "metadata": {},
   "outputs": [],
   "source": [
    "#pip install imbalanced-learn"
   ]
  },
  {
   "cell_type": "code",
   "execution_count": 119,
   "id": "4eb2ca54-4891-49f4-86ea-06ff55043857",
   "metadata": {},
   "outputs": [
    {
     "name": "stdout",
     "output_type": "stream",
     "text": [
      "(9406, 1145) (9406,)\n"
     ]
    }
   ],
   "source": [
    "from imblearn.over_sampling import SMOTE\n",
    "smote = SMOTE()\n",
    "vectorized_x_train_smote, y_train_smote = smote.fit_resample(vectorized_x_train, y_train)\n",
    "print(vectorized_x_train_smote.shape, y_train_smote.shape)"
   ]
  },
  {
   "cell_type": "code",
   "execution_count": 121,
   "id": "26e238e5-d885-4d87-9e6b-c81095e69d40",
   "metadata": {},
   "outputs": [
    {
     "data": {
      "text/plain": [
       "label\n",
       "0    4703\n",
       "1    4703\n",
       "Name: count, dtype: int64"
      ]
     },
     "execution_count": 121,
     "metadata": {},
     "output_type": "execute_result"
    }
   ],
   "source": [
    "y_train_smote.value_counts()"
   ]
  },
  {
   "cell_type": "code",
   "execution_count": 124,
   "id": "3ffbd12e-c4a1-4fe8-97f2-a5e956a84dc7",
   "metadata": {},
   "outputs": [
    {
     "data": {
      "image/png": "[encoded data removed]",
      "text/plain": [
       "<Figure size 640x480 with 1 Axes>"
      ]
     },
     "metadata": {},
     "output_type": "display_data"
    }
   ],
   "source": [
    "plt.pie(np.array([y_train_smote.value_counts()[0], y_train_smote.value_counts()[1]]),labels=['Positive', 'Negative'])\n",
    "plt.show()"
   ]
  },
  {
   "cell_type": "code",
   "execution_count": 126,
   "id": "880be565-cc9f-439e-964b-259f1462d3f2",
   "metadata": {},
   "outputs": [
    {
     "data": {
      "text/plain": [
       "array([[0., 1., 0., ..., 0., 0., 0.],\n",
       "       [0., 1., 0., ..., 0., 0., 0.],\n",
       "       [0., 0., 0., ..., 0., 0., 0.],\n",
       "       ...,\n",
       "       [0., 0., 0., ..., 0., 0., 0.],\n",
       "       [0., 0., 0., ..., 0., 0., 0.],\n",
       "       [0., 0., 0., ..., 0., 0., 0.]], shape=(9406, 1145), dtype=float32)"
      ]
     },
     "execution_count": 126,
     "metadata": {},
     "output_type": "execute_result"
    }
   ],
   "source": [
    "vectorized_x_train_smote"
   ]
  },
  {
   "cell_type": "code",
   "execution_count": 127,
   "id": "27524381-61d1-4760-94ad-cb122bc7f59d",
   "metadata": {},
   "outputs": [
    {
     "data": {
      "text/plain": [
       "0       0\n",
       "1       0\n",
       "2       0\n",
       "3       1\n",
       "4       0\n",
       "       ..\n",
       "9401    1\n",
       "9402    1\n",
       "9403    1\n",
       "9404    1\n",
       "9405    1\n",
       "Name: label, Length: 9406, dtype: int64"
      ]
     },
     "execution_count": 127,
     "metadata": {},
     "output_type": "execute_result"
    }
   ],
   "source": [
    "y_train_smote"
   ]
  },
  {
   "cell_type": "code",
   "execution_count": 130,
   "id": "26773aae-8474-456e-a46e-d04a0779ce36",
   "metadata": {},
   "outputs": [
    {
     "data": {
      "text/plain": [
       "array([[0., 0., 0., ..., 0., 0., 0.],\n",
       "       [0., 0., 0., ..., 0., 0., 0.],\n",
       "       [0., 0., 0., ..., 0., 0., 0.],\n",
       "       ...,\n",
       "       [0., 0., 0., ..., 0., 0., 0.],\n",
       "       [0., 0., 0., ..., 0., 0., 0.],\n",
       "       [0., 0., 0., ..., 0., 0., 0.]], shape=(1584, 1145), dtype=float32)"
      ]
     },
     "execution_count": 130,
     "metadata": {},
     "output_type": "execute_result"
    }
   ],
   "source": [
    "vectorized_x_test"
   ]
  },
  {
   "cell_type": "code",
   "execution_count": 131,
   "id": "1087f097-f8fc-4930-a83f-ed5b0141f08b",
   "metadata": {},
   "outputs": [
    {
     "data": {
      "text/plain": [
       "263     0\n",
       "5058    1\n",
       "5669    0\n",
       "1886    0\n",
       "2030    0\n",
       "       ..\n",
       "6927    1\n",
       "1658    0\n",
       "3233    0\n",
       "3045    0\n",
       "7876    0\n",
       "Name: label, Length: 1584, dtype: int64"
      ]
     },
     "execution_count": 131,
     "metadata": {},
     "output_type": "execute_result"
    }
   ],
   "source": [
    "y_test"
   ]
  },
  {
   "cell_type": "markdown",
   "id": "9d862332-a3c1-45a2-b365-83a024f43818",
   "metadata": {},
   "source": [
    "## Model training and Evaluation"
   ]
  },
  {
   "cell_type": "code",
   "execution_count": 133,
   "id": "77828770-114d-441a-91ad-4ba1fe9c6c21",
   "metadata": {},
   "outputs": [],
   "source": [
    "from sklearn.linear_model import LogisticRegression\n",
    "from sklearn.naive_bayes import MultinomialNB\n",
    "from sklearn.tree import DecisionTreeClassifier\n",
    "from sklearn.ensemble import RandomForestClassifier\n",
    "from sklearn.svm import SVC"
   ]
  },
  {
   "cell_type": "code",
   "execution_count": 135,
   "id": "804acd53-dbbc-4a71-8f02-c646ad36f5d0",
   "metadata": {},
   "outputs": [],
   "source": [
    "from sklearn.metrics import accuracy_score, f1_score, precision_score, recall_score\n",
    "\n",
    "def training_scores(y_act, y_pred):\n",
    "    acc = round(accuracy_score(y_act, y_pred), 4)\n",
    "    f1 = round(f1_score(y_act, y_pred), 4)\n",
    "    rec = round(recall_score(y_act, y_pred), 4)\n",
    "    pr = round(precision_score(y_act, y_pred), 4)\n",
    "    print(f'Training Scores:\\n\\tAccuracy = {acc}\\n\\tPrecision = {pr}\\n\\tRecall = {rec}\\n\\tF1-Score = {f1}')\n",
    "\n",
    "def validation_scores(y_act, y_pred):\n",
    "    acc = round(accuracy_score(y_act, y_pred), 4)\n",
    "    f1 = round(f1_score(y_act, y_pred), 4)\n",
    "    rec = round(recall_score(y_act, y_pred), 4)\n",
    "    pr = round(precision_score(y_act, y_pred), 4)\n",
    "    print(f'Testing Scores:\\n\\tAccuracy = {acc}\\n\\tPrecision = {pr}\\n\\tRecall = {rec}\\n\\tF1-Score = {f1}')\n"
   ]
  },
  {
   "cell_type": "markdown",
   "id": "4da55527-ae54-403c-9ebd-57e7a78c562b",
   "metadata": {},
   "source": [
    "### Logistic Regression"
   ]
  },
  {
   "cell_type": "code",
   "execution_count": 146,
   "id": "21a93a69-8408-4437-b703-85f8da7e5f9e",
   "metadata": {},
   "outputs": [
    {
     "name": "stdout",
     "output_type": "stream",
     "text": [
      "Training Scores:\n",
      "\tAccuracy = 0.9368\n",
      "\tPrecision = 0.9121\n",
      "\tRecall = 0.9668\n",
      "\tF1-Score = 0.9387\n",
      "Testing Scores:\n",
      "\tAccuracy = 0.8756\n",
      "\tPrecision = 0.7094\n",
      "\tRecall = 0.8448\n",
      "\tF1-Score = 0.7712\n"
     ]
    }
   ],
   "source": [
    "lr = LogisticRegression()\n",
    "lr.fit(vectorized_x_train_smote, y_train_smote)\n",
    "\n",
    "y_train_pred = lr.predict(vectorized_x_train_smote)\n",
    "\n",
    "training_scores(y_train_smote, y_train_pred)\n",
    "\n",
    "y_test_pred = lr.predict(vectorized_x_test)\n",
    "\n",
    "validation_scores(y_test, y_test_pred)"
   ]
  },
  {
   "cell_type": "code",
   "execution_count": 139,
   "id": "cc3f52f1-9f91-416b-bba8-c96f1df033e3",
   "metadata": {},
   "outputs": [
    {
     "data": {
      "text/plain": [
       "array([0, 0, 0, ..., 1, 1, 1], shape=(9406,))"
      ]
     },
     "execution_count": 139,
     "metadata": {},
     "output_type": "execute_result"
    }
   ],
   "source": [
    "y_train_pred"
   ]
  },
  {
   "cell_type": "markdown",
   "id": "5f213239-c8b7-4d86-ab35-a4959cbdc38d",
   "metadata": {},
   "source": [
    "### Naive Bayes"
   ]
  },
  {
   "cell_type": "code",
   "execution_count": 147,
   "id": "4963b6b0-6707-439c-a069-e05919b00f72",
   "metadata": {},
   "outputs": [
    {
     "name": "stdout",
     "output_type": "stream",
     "text": [
      "Training Scores:\n",
      "\tAccuracy = 0.9058\n",
      "\tPrecision = 0.8679\n",
      "\tRecall = 0.9573\n",
      "\tF1-Score = 0.9104\n",
      "Testing Scores:\n",
      "\tAccuracy = 0.8699\n",
      "\tPrecision = 0.6673\n",
      "\tRecall = 0.9491\n",
      "\tF1-Score = 0.7836\n"
     ]
    }
   ],
   "source": [
    "mnb = MultinomialNB()\n",
    "mnb.fit(vectorized_x_train_smote, y_train_smote)\n",
    "\n",
    "y_train_pred = mnb.predict(vectorized_x_train_smote)\n",
    "\n",
    "training_scores(y_train_smote, y_train_pred)\n",
    "\n",
    "y_test_pred = mnb.predict(vectorized_x_test)\n",
    "\n",
    "validation_scores(y_test, y_test_pred)"
   ]
  },
  {
   "cell_type": "markdown",
   "id": "a75f8791-9b26-49cc-8c86-d1ba1b6ac5b4",
   "metadata": {},
   "source": [
    "### Decision Tree"
   ]
  },
  {
   "cell_type": "code",
   "execution_count": 148,
   "id": "cbecdb70-f530-473c-9ece-1f5456ff9f71",
   "metadata": {},
   "outputs": [
    {
     "name": "stdout",
     "output_type": "stream",
     "text": [
      "Training Scores:\n",
      "\tAccuracy = 0.9997\n",
      "\tPrecision = 1.0\n",
      "\tRecall = 0.9994\n",
      "\tF1-Score = 0.9997\n",
      "Testing Scores:\n",
      "\tAccuracy = 0.8409\n",
      "\tPrecision = 0.685\n",
      "\tRecall = 0.6641\n",
      "\tF1-Score = 0.6744\n"
     ]
    }
   ],
   "source": [
    "dt = DecisionTreeClassifier()\n",
    "dt.fit(vectorized_x_train_smote, y_train_smote)\n",
    "\n",
    "y_train_pred = dt.predict(vectorized_x_train_smote)\n",
    "\n",
    "training_scores(y_train_smote, y_train_pred)\n",
    "\n",
    "y_test_pred = dt.predict(vectorized_x_test)\n",
    "\n",
    "validation_scores(y_test, y_test_pred)"
   ]
  },
  {
   "cell_type": "markdown",
   "id": "bb8ffe0c-6425-42b1-87cb-e99471fca3fb",
   "metadata": {},
   "source": [
    "### Random Forest"
   ]
  },
  {
   "cell_type": "code",
   "execution_count": 150,
   "id": "9856ff42-02c4-4aac-ab88-9483d456090d",
   "metadata": {},
   "outputs": [
    {
     "name": "stdout",
     "output_type": "stream",
     "text": [
      "Training Scores:\n",
      "\tAccuracy = 0.9997\n",
      "\tPrecision = 1.0\n",
      "\tRecall = 0.9994\n",
      "\tF1-Score = 0.9997\n",
      "Testing Scores:\n",
      "\tAccuracy = 0.8737\n",
      "\tPrecision = 0.7546\n",
      "\tRecall = 0.7277\n",
      "\tF1-Score = 0.7409\n"
     ]
    }
   ],
   "source": [
    "rf = RandomForestClassifier()\n",
    "rf.fit(vectorized_x_train_smote, y_train_smote)\n",
    "\n",
    "y_train_pred = rf.predict(vectorized_x_train_smote)\n",
    "\n",
    "training_scores(y_train_smote, y_train_pred)\n",
    "\n",
    "y_test_pred = rf.predict(vectorized_x_test)\n",
    "\n",
    "validation_scores(y_test, y_test_pred)"
   ]
  },
  {
   "cell_type": "markdown",
   "id": "9bd45318-4626-440b-9c68-d75eb4f3d8f8",
   "metadata": {},
   "source": [
    "### Support Vector Machine"
   ]
  },
  {
   "cell_type": "code",
   "execution_count": 151,
   "id": "d7dc5afc-128b-4fcf-b3f1-b8c8e86b4b06",
   "metadata": {},
   "outputs": [
    {
     "name": "stdout",
     "output_type": "stream",
     "text": [
      "Training Scores:\n",
      "\tAccuracy = 0.9765\n",
      "\tPrecision = 0.9594\n",
      "\tRecall = 0.9951\n",
      "\tF1-Score = 0.9769\n",
      "Testing Scores:\n",
      "\tAccuracy = 0.8801\n",
      "\tPrecision = 0.7344\n",
      "\tRecall = 0.8092\n",
      "\tF1-Score = 0.77\n"
     ]
    }
   ],
   "source": [
    "svm = SVC()\n",
    "svm.fit(vectorized_x_train_smote, y_train_smote)\n",
    "\n",
    "y_train_pred = svm.predict(vectorized_x_train_smote)\n",
    "\n",
    "training_scores(y_train_smote, y_train_pred)\n",
    "\n",
    "y_test_pred = svm.predict(vectorized_x_test)\n",
    "\n",
    "validation_scores(y_test, y_test_pred)"
   ]
  },
  {
   "cell_type": "markdown",
   "id": "5f3ab068-01ae-43f0-a4ab-bcaf98b0a158",
   "metadata": {},
   "source": [
    "#### save and load models\n"
   ]
  },
  {
   "cell_type": "code",
   "execution_count": 153,
   "id": "4e4488d6-8f18-4ede-b848-5d8d4dcd192c",
   "metadata": {},
   "outputs": [],
   "source": [
    "import pickle\n",
    "\n",
    "with open('../static/model/model.pickle', 'wb') as file:\n",
    "    pickle.dump(lr, file)"
   ]
  },
  {
   "cell_type": "code",
   "execution_count": null,
   "id": "ff1d2247-ab38-4863-9564-148d80fd0b6a",
   "metadata": {},
   "outputs": [],
   "source": []
  }
 ],
 "metadata": {
  "kernelspec": {
   "display_name": "Python 3 (ipykernel)",
   "language": "python",
   "name": "python3"
  },
  "language_info": {
   "codemirror_mode": {
    "name": "ipython",
    "version": 3
   },
   "file_extension": ".py",
   "mimetype": "text/x-python",
   "name": "python",
   "nbconvert_exporter": "python",
   "pygments_lexer": "ipython3",
   "version": "3.10.3"
  }
 },
 "nbformat": 4,
 "nbformat_minor": 5
}
